{
 "cells": [
  {
   "cell_type": "markdown",
   "metadata": {},
   "source": [
    "## Behavioral cloning \n",
    "--- "
   ]
  },
  {
   "cell_type": "code",
   "execution_count": 36,
   "metadata": {},
   "outputs": [],
   "source": [
    "from keras.models import Sequential, model_from_json\n",
    "from keras.layers.core import Dense, Activation, Flatten, Dropout, Lambda\n",
    "from keras.layers import core, convolutional, pooling\n",
    "from keras.layers.advanced_activations import ELU\n",
    "from keras.regularizers import l2, l1\n",
    "from keras.optimizers import Adam, Nadam\n",
    "from keras.callbacks import ModelCheckpoint, Callback\n",
    "from sklearn.model_selection import train_test_split\n",
    "from sklearn.utils import shuffle\n",
    "import skimage.transform as sktransform\n",
    "import math\n",
    "import numpy as np\n",
    "import pandas as pd\n",
    "from PIL import Image         \n",
    "import cv2                 \n",
    "import matplotlib.pyplot as plt\n",
    "from os import getcwd\n",
    "import os\n",
    "import csv\n",
    "import random\n",
    "import matplotlib.image as mpimg\n",
    "# Fix error with TF and Keras\n",
    "import tensorflow as tf\n",
    "#from tensorflow.python.ops import functional_ops as fn_ops\n",
    "#tf.python.control_flow_ops = tf\n",
    "% matplotlib inline"
   ]
  },
  {
   "cell_type": "markdown",
   "metadata": {},
   "source": [
    "### Getting the data "
   ]
  },
  {
   "cell_type": "markdown",
   "metadata": {},
   "source": [
    "* 3 laps of center driving clock wise \n",
    "* 3 laps of center driving counter clock wise \n",
    "\n",
    "* recovery driving "
   ]
  },
  {
   "cell_type": "markdown",
   "metadata": {},
   "source": [
    "### Data loading "
   ]
  },
  {
   "cell_type": "markdown",
   "metadata": {},
   "source": [
    "Using pandas to load the data from the .csv file. the data are the centered images, the left images and the right images and their steering angle."
   ]
  },
  {
   "cell_type": "code",
   "execution_count": 2,
   "metadata": {
    "collapsed": true
   },
   "outputs": [],
   "source": [
    "csv_path = './data/driving_log - Copie.csv'\n",
    "local_data_path = '/data'\n",
    "dir_abs_path = getcwd()\n",
    "\n",
    "def change_dir(x):\n",
    "    \"\"\"\n",
    "    Replace path of the a column of the dataframe\n",
    "    example : C:\\...\\*\\.jpg to *\\.jpg\n",
    "    \"\"\"\n",
    "    split = str(x).split('\\\\')\n",
    "    filename = split[len(split)-1]\n",
    "    dirname = split[len(split)-2]\n",
    "    conca = os.path.join(dirname,filename)\n",
    "    return conca\n",
    "\n",
    "def load_data(csv_path):\n",
    "    \"\"\"\n",
    "    Load data from the csv file \n",
    "    Returns Panda DataFrame containing all the data\n",
    "    \"\"\"\n",
    "    #df = pd.io.parsers.read_csv(csv_path, delimiter=',', header=None, names = ['center','left','right',\n",
    "    #                                                                           'steering','throttle','brake','speed'])\n",
    "    df = pd.io.parsers.read_csv(csv_path, delimiter=',')\n",
    "    return df\n",
    "\n",
    "\n",
    "def convert(strr):\n",
    "    return strr.replace(\"\\\\\",\"/\")\n",
    "\n",
    "def combine_dataframe(condi=False):\n",
    "    \"\"\"\n",
    "    Combine the multiple csv of data into a final dataframe\n",
    "    \"\"\"\n",
    "    if condi == True :\n",
    "        df1 = load_data(csv_path)\n",
    "        df2 = load_data('./data/2/driving_log.csv')\n",
    "        df3 = load_data('./data/3/driving_log.csv')\n",
    "        df4 = load_data('./data/4/driving_log.csv')\n",
    "\n",
    "        df2.center = df2.center.apply(change_dir)\n",
    "        df2.left = df2.left.apply(change_dir)\n",
    "        df2.right = df2.right.apply(change_dir)\n",
    "        df2.center = df2.center.apply(convert)\n",
    "        df2.left = df2.left.apply(convert)\n",
    "        df2.right = df2.right.apply(convert)\n",
    "        \n",
    "        df3.center = df3.center.apply(change_dir)\n",
    "        df3.left = df3.left.apply(change_dir)\n",
    "        df3.right = df3.right.apply(change_dir)\n",
    "        df3.center = df3.center.apply(convert)\n",
    "        df3.left = df3.left.apply(convert)\n",
    "        df3.right = df3.right.apply(convert)\n",
    "        \n",
    "        df4.center = df4.center.apply(change_dir)\n",
    "        df4.left = df4.left.apply(change_dir)\n",
    "        df4.right = df4.right.apply(change_dir)\n",
    "        df4.center = df4.center.apply(convert)\n",
    "        df4.left = df4.left.apply(convert)\n",
    "        df4.right = df4.right.apply(convert)\n",
    "\n",
    "        df = pd.DataFrame()\n",
    "        df = df.append(df1, ignore_index= True)\n",
    "        df = df.append(df2, ignore_index= True)\n",
    "        df = df.append(df3, ignore_index= True)\n",
    "        df = df.append(df4, ignore_index= True)\n",
    "\n",
    "        df.to_csv('data/driving_log_concat_raw.csv', index=False)\n",
    "    else : \n",
    "        pass"
   ]
  },
  {
   "cell_type": "code",
   "execution_count": 3,
   "metadata": {},
   "outputs": [
    {
     "name": "stdout",
     "output_type": "stream",
     "text": [
      "center      37064\n",
      "left        37064\n",
      "right       37064\n",
      "steering    37064\n",
      "throttle    37064\n",
      "brake       37064\n",
      "speed       37064\n",
      "dtype: int64\n"
     ]
    }
   ],
   "source": [
    "combine_dataframe(False)  \n",
    "df = pd.DataFrame()\n",
    "df = load_data('./data/driving_log_concat_raw.csv')\n",
    "print(df.count())"
   ]
  },
  {
   "cell_type": "markdown",
   "metadata": {},
   "source": [
    "### Data visualisation"
   ]
  },
  {
   "cell_type": "markdown",
   "metadata": {},
   "source": [
    "<i>Inspired from [Jeremy Shannon](https://github.com/jeremy-shannon/CarND-Behavioral-Cloning-Project)</i>"
   ]
  },
  {
   "cell_type": "code",
   "execution_count": 4,
   "metadata": {
    "scrolled": true
   },
   "outputs": [
    {
     "name": "stdout",
     "output_type": "stream",
     "text": [
      "0\n",
      "37064\n",
      "23228\n",
      "0.0222222222222\n"
     ]
    },
    {
     "data": {
      "image/png": "[encoded data removed]",
      "text/plain": [
       "<matplotlib.figure.Figure at 0x7f50600322b0>"
      ]
     },
     "metadata": {},
     "output_type": "display_data"
    }
   ],
   "source": [
    "# print a histogram to see which steering angle ranges are most overrepresented\n",
    "min_sample_treshold = 150\n",
    "num_bins = 45\n",
    "avg_samples_per_bin = len(df['steering'])/num_bins\n",
    "hist, bins = np.histogram(np.abs(df['steering']), num_bins)\n",
    "width = 0.85 * (bins[1] - bins[0])\n",
    "center = (bins[:-1] + bins[1:]) / 2\n",
    "plt.bar(center, hist, align='center', width=width)\n",
    "plt.plot((0, np.max(df['steering'])), (min_sample_treshold, min_sample_treshold), 'k-')\n",
    "\n",
    "print(int(df['steering'].values[1]))\n",
    "print(df['steering'].count())\n",
    "print(hist[0])\n",
    "print(bins[1]-bins[0])"
   ]
  },
  {
   "cell_type": "code",
   "execution_count": 63,
   "metadata": {
    "collapsed": true,
    "scrolled": false
   },
   "outputs": [],
   "source": [
    "# Better use panda to filter the data : much faster than using the array\n",
    "start = 0. #Starting steering value\n",
    "bin_n = 900# wanted amount of sample within a steering range \n",
    "num_sub = 25\n",
    "balanced = pd.DataFrame()\n",
    "# Iterate from 0 to 1 [steering] by step of 1/45\n",
    "for end in np.linspace(0,1, num_sub) : \n",
    "    # save in df_range the steering values comprises within start and end range. \n",
    "    # May use np.absolute(df.steering).between(-0.5, 0.5, inclusive=False) but multiplies some samples\n",
    "    df_range = df[((np.absolute(df.steering) >= start) & (np.absolute(df.steering) < end))]\n",
    "    # if there is data\n",
    "    if (df_range.shape[0]) is not 0:\n",
    "        # Minimum between the wanted number of samples within the steering range \n",
    "        # and the df_range size (samples within the actual df)\n",
    "        range_n = min(bin_n, df_range.shape[0])\n",
    "        # Stores in DataFrame balanced range_n amount of random samples \n",
    "        balanced = pd.concat([balanced,df_range.sample(range_n)])\n",
    "        #balanced = balanced.append(balanced, ignore_index= True)\n",
    "    else : \n",
    "        # print('DID NOT')\n",
    "        pass\n",
    "    start = end"
   ]
  },
  {
   "cell_type": "code",
   "execution_count": 64,
   "metadata": {},
   "outputs": [
    {
     "name": "stdout",
     "output_type": "stream",
     "text": [
      "center      8955\n",
      "left        8955\n",
      "right       8955\n",
      "steering    8955\n",
      "throttle    8955\n",
      "brake       8955\n",
      "speed       8955\n",
      "dtype: int64\n"
     ]
    },
    {
     "data": {
      "text/plain": [
       "[<matplotlib.lines.Line2D at 0x7f4f3a451e10>]"
      ]
     },
     "execution_count": 64,
     "metadata": {},
     "output_type": "execute_result"
    },
    {
     "data": {
      "image/png": "[encoded data removed]",
      "text/plain": [
       "<matplotlib.figure.Figure at 0x7f4f3a451d30>"
      ]
     },
     "metadata": {},
     "output_type": "display_data"
    }
   ],
   "source": [
    "# remove last value of sterring (strange behavior of my data (??))\n",
    "balanced = balanced.drop(balanced[(np.abs(balanced.steering) >= 0.97) & (np.abs(balanced.steering) < 1)].index)\n",
    "print(balanced.count())\n",
    "\n",
    "# print a histogram to see which steering angle ranges are most overrepresented\n",
    "min_sample_treshold = bin_n\n",
    "num_bins = len(np.linspace(0,1, 23))\n",
    "avg_samples_per_bin = len(balanced['steering'])/num_bins\n",
    "hist, bins = np.histogram(np.abs(balanced['steering']), num_bins)\n",
    "width = 0.5 * (bins[1] - bins[0])\n",
    "center = (bins[:-1] + bins[1:]) / 2\n",
    "plt.bar(center, hist, align='center', width=width)\n",
    "plt.plot((0, np.max(balanced['steering'])), (min_sample_treshold, min_sample_treshold), 'k-')"
   ]
  },
  {
   "cell_type": "markdown",
   "metadata": {},
   "source": [
    "### helper functions "
   ]
  },
  {
   "cell_type": "markdown",
   "metadata": {},
   "source": [
    "#### Preprocessing"
   ]
  },
  {
   "cell_type": "markdown",
   "metadata": {},
   "source": [
    "Cropping the images\n",
    "\n",
    "<i>Inspired from [Navoshta](https://github.com/navoshta/behavioral-cloning)</i>"
   ]
  },
  {
   "cell_type": "code",
   "execution_count": 58,
   "metadata": {
    "collapsed": true
   },
   "outputs": [],
   "source": [
    "def preprocess_image(image, top_offset=0.375, bottom_offset=0.125):\n",
    "    # Convert to YUV\n",
    "    #image = cv2.cvtColor(image,cv2.COLOR_RGB2YUV)\n",
    "    # Cropping the image\n",
    "    top = int(top_offset * image.shape[0])\n",
    "    bottom = int(bottom_offset * image.shape[0])\n",
    "    image = sktransform.resize(image[top:-bottom,:],(32,128,3), mode='constant')\n",
    "    # Apply gaussian blur\n",
    "    image = cv2.GaussianBlur(image,(3,3),0)\n",
    "    return image "
   ]
  },
  {
   "cell_type": "code",
   "execution_count": 59,
   "metadata": {},
   "outputs": [
    {
     "data": {
      "text/plain": [
       "<matplotlib.image.AxesImage at 0x7f4f3a448d68>"
      ]
     },
     "execution_count": 59,
     "metadata": {},
     "output_type": "execute_result"
    },
    {
     "data": {
      "image/png": "[encoded data removed]",
      "text/plain": [
       "<matplotlib.figure.Figure at 0x7f4f3acab7f0>"
      ]
     },
     "metadata": {},
     "output_type": "display_data"
    }
   ],
   "source": [
    "temp = mpimg.imread('./data/IMG/center_2016_12_01_13_30_48_287.jpg')\n",
    "temp2 = preprocess_image(temp)\n",
    "plt.imshow(temp2)"
   ]
  },
  {
   "cell_type": "markdown",
   "metadata": {},
   "source": [
    "#### Generators"
   ]
  },
  {
   "cell_type": "markdown",
   "metadata": {},
   "source": [
    "<i>Copied from [Navoshta](https://github.com/navoshta/behavioral-cloning)</i>"
   ]
  },
  {
   "cell_type": "code",
   "execution_count": 60,
   "metadata": {
    "collapsed": true
   },
   "outputs": [],
   "source": [
    "cameras = ['left','center','right']\n",
    "cameras_steering_correction=[.25, .0, -.25]\n",
    "\n",
    "# data : input panda data\n",
    "def generate_data(data, root_path):\n",
    "    while True : \n",
    "        # Generate random batch of indices \n",
    "        indices = np.random.permutation(data.count()[0])\n",
    "        batch_size = 128 \n",
    "        # Travel each batch till the end of indices\n",
    "        for batch in range (0,len(indices),batch_size):\n",
    "            batch_indices = indices[batch:(batch+batch_size)]\n",
    "            # initiate output arrays\n",
    "            #x = np.empty([0,66,200,3], dtype=np.float32)\n",
    "            x = np.empty([0,32,128,3], dtype=np.float32)\n",
    "            y = np.empty([0], dtype=np.float32)\n",
    "            # Travel each indices coutained within the batch \n",
    "            # Read and process each image of the data\n",
    "            for i in batch_indices: \n",
    "                # Randomly select camera\n",
    "                camera = np.random.randint(len(cameras))\n",
    "                # Read frame image and work out steering angle\n",
    "                image = mpimg.imread(os.path.join(root_path, data[cameras[camera]].values[i].strip()))\n",
    "                angle = data.steering.values[i] + cameras_steering_correction[camera]\n",
    "                # add shadow here\n",
    "                h, w = image.shape[0], image.shape[1]\n",
    "                [x1, x2] = np.random.choice(w, 2, replace=False)\n",
    "                k = h / (x2 - x1)\n",
    "                b = - k * x1\n",
    "                for i in range(h):\n",
    "                    c = int((i - b) / k)\n",
    "                    image[i, :c, :] = (image[i, :c, :] * .5).astype(np.int32)\n",
    "                # Randomly shift up and down while preprocessing\n",
    "                v_delta = .05\n",
    "                image = preprocess_image(image, top_offset = np.random.uniform(.375 - v_delta, .375 + v_delta), \n",
    "                                   bottom_offset = np.random.uniform(.125 - v_delta, .125 + v_delta))\n",
    "                # Append to batch\n",
    "                x = np.append(x, [image], axis=0)\n",
    "                y = np.append(y, [angle])\n",
    "            # Randomly flip half of images in the batch\n",
    "            flip_indices = random.sample(range(x.shape[0]), int(x.shape[0] / 2))\n",
    "            x[flip_indices] = x[flip_indices, :, ::-1, :]\n",
    "            y[flip_indices] = -y[flip_indices]\n",
    "            yield (x, y)"
   ]
  },
  {
   "cell_type": "code",
   "execution_count": 1,
   "metadata": {},
   "outputs": [
    {
     "ename": "NameError",
     "evalue": "name 'os' is not defined",
     "output_type": "error",
     "traceback": [
      "\u001b[1;31m---------------------------------------------------------------------------\u001b[0m",
      "\u001b[1;31mNameError\u001b[0m                                 Traceback (most recent call last)",
      "\u001b[1;32m<ipython-input-1-45b4d20e549e>\u001b[0m in \u001b[0;36m<module>\u001b[1;34m()\u001b[0m\n\u001b[0;32m      1\u001b[0m \u001b[0mlocal_project_path\u001b[0m \u001b[1;33m=\u001b[0m \u001b[1;34m'./'\u001b[0m\u001b[1;33m\u001b[0m\u001b[0m\n\u001b[1;32m----> 2\u001b[1;33m \u001b[0mlocal_data_path\u001b[0m \u001b[1;33m=\u001b[0m \u001b[0mos\u001b[0m\u001b[1;33m.\u001b[0m\u001b[0mpath\u001b[0m\u001b[1;33m.\u001b[0m\u001b[0mjoin\u001b[0m\u001b[1;33m(\u001b[0m\u001b[0mlocal_project_path\u001b[0m\u001b[1;33m,\u001b[0m \u001b[1;34m'data'\u001b[0m\u001b[1;33m)\u001b[0m\u001b[1;33m\u001b[0m\u001b[0m\n\u001b[0m",
      "\u001b[1;31mNameError\u001b[0m: name 'os' is not defined"
     ]
    }
   ],
   "source": [
    "local_project_path = './'\n",
    "local_data_path = os.path.join(local_project_path, 'data')"
   ]
  },
  {
   "cell_type": "markdown",
   "metadata": {},
   "source": [
    "### Model"
   ]
  },
  {
   "cell_type": "markdown",
   "metadata": {},
   "source": [
    "<i>Inspired from [Navoshta](https://github.com/navoshta/behavioral-cloning) and [Navoshta](https://github.com/jeremy-shannon/CarND-Behavioral-Cloning-Project)</i>"
   ]
  },
  {
   "cell_type": "code",
   "execution_count": null,
   "metadata": {
    "scrolled": false
   },
   "outputs": [
    {
     "name": "stdout",
     "output_type": "stream",
     "text": [
      "Epoch 1/20\n",
      "7164/7164 [==============================] - 54s - loss: 0.1950 - val_loss: 0.1882\n",
      "Epoch 2/20\n",
      "7164/7164 [==============================] - 47s - loss: 0.1719 - val_loss: 0.1435\n",
      "Epoch 3/20\n",
      "7164/7164 [==============================] - 46s - loss: 0.1410 - val_loss: 0.1283\n",
      "Epoch 4/20\n",
      "7164/7164 [==============================] - 45s - loss: 0.1243 - val_loss: 0.1208\n",
      "Epoch 5/20\n",
      "7164/7164 [==============================] - 47s - loss: 0.1139 - val_loss: 0.1078\n",
      "Epoch 6/20\n",
      "7164/7164 [==============================] - 47s - loss: 0.1065 - val_loss: 0.0993\n",
      "Epoch 7/20\n",
      "7164/7164 [==============================] - 46s - loss: 0.1003 - val_loss: 0.0970\n",
      "Epoch 8/20\n",
      "7164/7164 [==============================] - 46s - loss: 0.0959 - val_loss: 0.0974\n",
      "Epoch 9/20\n",
      "7164/7164 [==============================] - 49s - loss: 0.0898 - val_loss: 0.0869\n",
      "Epoch 10/20\n",
      "7164/7164 [==============================] - 46s - loss: 0.0893 - val_loss: 0.0858\n",
      "Epoch 11/20\n",
      "7164/7164 [==============================] - 46s - loss: 0.0861 - val_loss: 0.0852\n",
      "Epoch 12/20\n",
      "7040/7164 [============================>.] - ETA: 0s - loss: 0.0837"
     ]
    }
   ],
   "source": [
    "if not False:\n",
    "    model = Sequential()\n",
    "    # Normalize\n",
    "    model.add(convolutional.Convolution2D(16, 3, 3, input_shape=(32, 128, 3), activation='relu', W_regularizer=l2(0.001)))\n",
    "    model.add(pooling.MaxPooling2D(pool_size=(2, 2)))\n",
    "    model.add(convolutional.Convolution2D(32, 3, 3, activation='relu', W_regularizer=l2(0.001)))\n",
    "    model.add(pooling.MaxPooling2D(pool_size=(2, 2)))\n",
    "    model.add(convolutional.Convolution2D(64, 3, 3, activation='relu', W_regularizer=l2(0.001)))\n",
    "    model.add(pooling.MaxPooling2D(pool_size=(2, 2)))\n",
    "    model.add(core.Flatten())\n",
    "    model.add(core.Dense(500, activation='relu'))\n",
    "    model.add(core.Dropout(.5))\n",
    "    model.add(core.Dense(100, activation='relu'))\n",
    "    model.add(core.Dropout(.25))\n",
    "    model.add(core.Dense(20, activation='relu'))\n",
    "    model.add(core.Dense(1))\n",
    "    model.compile(optimizer=Adam(lr=1e-04), loss='mse')\n",
    "\n",
    "    # initialize generators\n",
    "    df_train, df_valid = train_test_split(balanced, test_size=0.2, random_state=40)\n",
    "\n",
    "    checkpoint = ModelCheckpoint('model_{epoch:02d}.h5', save_weights_only=False)\n",
    "\n",
    "    #history = model.fit(X, y, batch_size=128, nb_epoch=5, validation_split=0.2, verbose=2)\n",
    "    history = model.fit_generator(generate_data(df_train, local_data_path),\n",
    "                                  samples_per_epoch=df_train.shape[0], nb_epoch=20,\n",
    "                                  validation_data=generate_data(df_valid, local_data_path),\n",
    "                                  callbacks=[checkpoint],\n",
    "                                  nb_val_samples=df_valid.shape[0])\n",
    "    # print('Test Loss:', model.evaluate_generator(test_gen, 128))\n",
    "\n",
    "    print(model.summary())\n",
    "    model.save_weights('./model_.h5')"
   ]
  },
  {
   "cell_type": "code",
   "execution_count": 16,
   "metadata": {},
   "outputs": [
    {
     "ename": "TypeError",
     "evalue": "__init__() missing 1 required positional argument: 'nb_col'",
     "output_type": "error",
     "traceback": [
      "\u001b[0;31m---------------------------------------------------------------------------\u001b[0m",
      "\u001b[0;31mTypeError\u001b[0m                                 Traceback (most recent call last)",
      "\u001b[0;32m<ipython-input-16-756fa9d451fe>\u001b[0m in \u001b[0;36m<module>\u001b[0;34m()\u001b[0m\n\u001b[1;32m     11\u001b[0m \u001b[0;34m\u001b[0m\u001b[0m\n\u001b[1;32m     12\u001b[0m     \u001b[0;31m# Add three 5x5 convolution layers (output depth 24, 36, and 48), each with 2x2 stride\u001b[0m\u001b[0;34m\u001b[0m\u001b[0;34m\u001b[0m\u001b[0m\n\u001b[0;32m---> 13\u001b[0;31m     \u001b[0mmodel\u001b[0m\u001b[0;34m.\u001b[0m\u001b[0madd\u001b[0m\u001b[0;34m(\u001b[0m\u001b[0mConv2D\u001b[0m\u001b[0;34m(\u001b[0m\u001b[0;36m24\u001b[0m\u001b[0;34m,\u001b[0m \u001b[0;34m(\u001b[0m\u001b[0;36m5\u001b[0m\u001b[0;34m,\u001b[0m \u001b[0;36m5\u001b[0m\u001b[0;34m)\u001b[0m\u001b[0;34m,\u001b[0m \u001b[0mstrides\u001b[0m\u001b[0;34m=\u001b[0m\u001b[0;34m(\u001b[0m\u001b[0;36m2\u001b[0m\u001b[0;34m,\u001b[0m \u001b[0;36m2\u001b[0m\u001b[0;34m)\u001b[0m\u001b[0;34m,\u001b[0m \u001b[0mpadding\u001b[0m\u001b[0;34m=\u001b[0m\u001b[0;34m'valid'\u001b[0m\u001b[0;34m,\u001b[0m \u001b[0mkernel_regularizer\u001b[0m\u001b[0;34m=\u001b[0m\u001b[0ml2\u001b[0m\u001b[0;34m(\u001b[0m\u001b[0;36m0.001\u001b[0m\u001b[0;34m)\u001b[0m\u001b[0;34m)\u001b[0m\u001b[0;34m)\u001b[0m\u001b[0;34m\u001b[0m\u001b[0m\n\u001b[0m\u001b[1;32m     14\u001b[0m     \u001b[0mmodel\u001b[0m\u001b[0;34m.\u001b[0m\u001b[0madd\u001b[0m\u001b[0;34m(\u001b[0m\u001b[0mELU\u001b[0m\u001b[0;34m(\u001b[0m\u001b[0;34m)\u001b[0m\u001b[0;34m)\u001b[0m\u001b[0;34m\u001b[0m\u001b[0m\n\u001b[1;32m     15\u001b[0m     \u001b[0mmodel\u001b[0m\u001b[0;34m.\u001b[0m\u001b[0madd\u001b[0m\u001b[0;34m(\u001b[0m\u001b[0mConv2D\u001b[0m\u001b[0;34m(\u001b[0m\u001b[0;36m36\u001b[0m\u001b[0;34m,\u001b[0m \u001b[0;34m(\u001b[0m\u001b[0;36m5\u001b[0m\u001b[0;34m,\u001b[0m \u001b[0;36m5\u001b[0m\u001b[0;34m)\u001b[0m\u001b[0;34m,\u001b[0m \u001b[0mstrides\u001b[0m\u001b[0;34m=\u001b[0m\u001b[0;34m(\u001b[0m\u001b[0;36m2\u001b[0m\u001b[0;34m,\u001b[0m \u001b[0;36m2\u001b[0m\u001b[0;34m)\u001b[0m\u001b[0;34m,\u001b[0m \u001b[0mpadding\u001b[0m\u001b[0;34m=\u001b[0m\u001b[0;34m'valid'\u001b[0m\u001b[0;34m,\u001b[0m \u001b[0mkernel_regularizer\u001b[0m\u001b[0;34m=\u001b[0m\u001b[0ml2\u001b[0m\u001b[0;34m(\u001b[0m\u001b[0;36m0.001\u001b[0m\u001b[0;34m)\u001b[0m\u001b[0;34m)\u001b[0m\u001b[0;34m)\u001b[0m\u001b[0;34m\u001b[0m\u001b[0m\n",
      "\u001b[0;31mTypeError\u001b[0m: __init__() missing 1 required positional argument: 'nb_col'"
     ]
    }
   ],
   "source": [
    "###### ConvNet Definintion ######\n",
    "###### Usage of Keras 2 - updated from Jeremy Shannon modified nVidia CNN proposal in Keras 1.x\n",
    "# for debugging purposes - don't want to mess with the model if just checkin' the data\n",
    "just_checkin_the_data = False\n",
    "\n",
    "if not just_checkin_the_data:\n",
    "    model = Sequential()\n",
    "\n",
    "    # Normalize\n",
    "    model.add(Lambda(lambda x: x/127.5 - 1.0,input_shape=(66,200,3)))\n",
    "\n",
    "    # Add three 5x5 convolution layers (output depth 24, 36, and 48), each with 2x2 stride\n",
    "    model.add(Conv2D(24, (5, 5), strides=(2, 2), padding='valid', kernel_regularizer=l2(0.001)))\n",
    "    model.add(ELU())\n",
    "    model.add(Conv2D(36, (5, 5), strides=(2, 2), padding='valid', kernel_regularizer=l2(0.001)))\n",
    "    model.add(ELU())\n",
    "    model.add(Conv2D(48, (5, 5), strides=(2, 2), padding='valid', kernel_regularizer=l2(0.001)))\n",
    "    model.add(ELU())\n",
    "\n",
    "    #model.add(Dropout(0.50))\n",
    "    \n",
    "    # Add two 3x3 convolution layers (output depth 64, and 64)\n",
    "    model.add(Conv2D(64, (3, 3), padding='valid', kernel_regularizer=l2(0.001)))\n",
    "    model.add(ELU())\n",
    "    model.add(Conv2D(64, (3, 3), padding='valid', kernel_regularizer=l2(0.001)))\n",
    "    model.add(ELU())\n",
    "\n",
    "    # Add a flatten layer\n",
    "    model.add(Flatten())\n",
    "\n",
    "    # Add three fully connected layers (depth 100, 50, 10), tanh activation (and dropouts)\n",
    "    model.add(Dense(100, kernel_regularizer=l2(0.001)))\n",
    "    model.add(ELU())\n",
    "    #model.add(Dropout(0.50))\n",
    "    model.add(Dense(50, kernel_regularizer=l2(0.001)))\n",
    "    model.add(ELU())\n",
    "    #model.add(Dropout(0.50))\n",
    "    model.add(Dense(10, kernel_regularizer=l2(0.001)))\n",
    "    model.add(ELU())\n",
    "    #model.add(Dropout(0.50))\n",
    "\n",
    "    # Add a fully connected output layer\n",
    "    model.add(Dense(1))\n",
    "\n",
    "    # Compile and train the model, \n",
    "    model.compile(optimizer=Adam(lr=1e-4), loss='mse')\n",
    "\n",
    "    ############  just for tweaking model ##############\n",
    "    # pulling out 128 random samples and training just on them, to make sure the model is capable of overfitting\n",
    "    # indices_train = np.random.randint(0, len(image_paths_train), 128)\n",
    "    # indices_test = np.random.randint(0, len(image_paths_test), 12)\n",
    "    # image_paths_train = image_paths_train[indices_train]\n",
    "    # angles_train = angles_train[indices_train]\n",
    "    # image_paths_test = image_paths_test[indices_test]\n",
    "    # angles_test = angles_test[indices_test]\n",
    "    #############################################################\n",
    "    \n",
    "    # initialize generators\n",
    "    df_train, df_valid = train_test_split(balanced, test_size=0.2, random_state=40)\n",
    "\n",
    "    checkpoint = ModelCheckpoint('model{epoch:02d}.h5', save_weights_only=False)\n",
    "\n",
    "    #history = model.fit(X, y, batch_size=128, nb_epoch=5, validation_split=0.2, verbose=2)\n",
    "    history = model.fit_generator(generate_data(df_train, local_data_path),\n",
    "                                  steps_per_epoch=df_train.shape[0], epochs=1,\n",
    "                                  validation_data=generate_data(df_valid, local_data_path),\n",
    "                                  callbacks=[checkpoint],\n",
    "                                  validation_steps=df_valid.shape[0])\n",
    "    # print('Test Loss:', model.evaluate_generator(test_gen, 128))\n",
    "\n",
    "    print(model.summary())\n",
    "    model.save_weights('./model.h5')"
   ]
  },
  {
   "cell_type": "code",
   "execution_count": 25,
   "metadata": {},
   "outputs": [
    {
     "ename": "TypeError",
     "evalue": "Received unknown keyword arguments: {'validation_steps': 807}",
     "output_type": "error",
     "traceback": [
      "\u001b[0;31m---------------------------------------------------------------------------\u001b[0m",
      "\u001b[0;31mTypeError\u001b[0m                                 Traceback (most recent call last)",
      "\u001b[0;32m<ipython-input-25-11c5726cc298>\u001b[0m in \u001b[0;36m<module>\u001b[0;34m()\u001b[0m\n\u001b[1;32m     27\u001b[0m                                   \u001b[0mvalidation_data\u001b[0m\u001b[0;34m=\u001b[0m\u001b[0mgenerate_data\u001b[0m\u001b[0;34m(\u001b[0m\u001b[0mdf_valid\u001b[0m\u001b[0;34m,\u001b[0m \u001b[0mlocal_data_path\u001b[0m\u001b[0;34m)\u001b[0m\u001b[0;34m,\u001b[0m\u001b[0;34m\u001b[0m\u001b[0m\n\u001b[1;32m     28\u001b[0m                                   \u001b[0mcallbacks\u001b[0m\u001b[0;34m=\u001b[0m\u001b[0;34m[\u001b[0m\u001b[0mcheckpoint\u001b[0m\u001b[0;34m]\u001b[0m\u001b[0;34m,\u001b[0m\u001b[0;34m\u001b[0m\u001b[0m\n\u001b[0;32m---> 29\u001b[0;31m                                   validation_steps=df_valid.shape[0])\n\u001b[0m\u001b[1;32m     30\u001b[0m     \u001b[0;31m# print('Test Loss:', model.evaluate_generator(test_gen, 128))\u001b[0m\u001b[0;34m\u001b[0m\u001b[0;34m\u001b[0m\u001b[0m\n\u001b[1;32m     31\u001b[0m \u001b[0;34m\u001b[0m\u001b[0m\n",
      "\u001b[0;32m/home/carnd/anaconda3/envs/carnd-term1/lib/python3.5/site-packages/keras/models.py\u001b[0m in \u001b[0;36mfit_generator\u001b[0;34m(self, generator, samples_per_epoch, nb_epoch, verbose, callbacks, validation_data, nb_val_samples, class_weight, max_q_size, nb_worker, pickle_safe, initial_epoch, **kwargs)\u001b[0m\n\u001b[1;32m    921\u001b[0m         \u001b[0;32mif\u001b[0m \u001b[0mkwargs\u001b[0m\u001b[0;34m:\u001b[0m\u001b[0;34m\u001b[0m\u001b[0m\n\u001b[1;32m    922\u001b[0m             raise TypeError('Received unknown keyword arguments: ' +\n\u001b[0;32m--> 923\u001b[0;31m                             str(kwargs))\n\u001b[0m\u001b[1;32m    924\u001b[0m         return self.model.fit_generator(generator,\n\u001b[1;32m    925\u001b[0m                                         \u001b[0msamples_per_epoch\u001b[0m\u001b[0;34m,\u001b[0m\u001b[0;34m\u001b[0m\u001b[0m\n",
      "\u001b[0;31mTypeError\u001b[0m: Received unknown keyword arguments: {'validation_steps': 807}"
     ]
    }
   ],
   "source": [
    "if not just_checkin_the_data:\n",
    "    model = Sequential()\n",
    "    # Normalize\n",
    "    model.add(convolutional.Convolution2D(16, 3, 3, input_shape=(32, 128, 3), activation='relu'))\n",
    "    model.add(pooling.MaxPooling2D(pool_size=(2, 2)))\n",
    "    model.add(convolutional.Convolution2D(32, 3, 3, activation='relu'))\n",
    "    model.add(pooling.MaxPooling2D(pool_size=(2, 2)))\n",
    "    model.add(convolutional.Convolution2D(64, 3, 3, activation='relu'))\n",
    "    model.add(pooling.MaxPooling2D(pool_size=(2, 2)))\n",
    "    model.add(core.Flatten())\n",
    "    model.add(core.Dense(500, activation='relu'))\n",
    "    model.add(core.Dropout(.5))\n",
    "    model.add(core.Dense(100, activation='relu'))\n",
    "    model.add(core.Dropout(.25))\n",
    "    model.add(core.Dense(20, activation='relu'))\n",
    "    model.add(core.Dense(1))\n",
    "    model.compile(optimizer=Adam(lr=1e-4), loss='mse')\n",
    "\n",
    "    # initialize generators\n",
    "    df_train, df_valid = train_test_split(balanced, test_size=0.2, random_state=40)\n",
    "\n",
    "    checkpoint = ModelCheckpoint('model{epoch:02d}.h5', save_weights_only=False)\n",
    "\n",
    "    #history = model.fit(X, y, batch_size=128, nb_epoch=5, validation_split=0.2, verbose=2)\n",
    "    history = model.fit_generator(generate_data(df_train, local_data_path),\n",
    "                                  samples_per_epoch=df_train.shape[0], nb_epoch=1,\n",
    "                                  validation_data=generate_data(df_valid, local_data_path),\n",
    "                                  callbacks=[checkpoint],\n",
    "                                  validation_steps=df_valid.shape[0])\n",
    "    # print('Test Loss:', model.evaluate_generator(test_gen, 128))\n",
    "\n",
    "    print(model.summary())\n",
    "    model.save_weights('./model.h5')"
   ]
  },
  {
   "cell_type": "code",
   "execution_count": null,
   "metadata": {
    "collapsed": true
   },
   "outputs": [],
   "source": []
  }
 ],
 "metadata": {
  "kernelspec": {
   "display_name": "Python 3",
   "language": "python",
   "name": "python3"
  },
  "language_info": {
   "codemirror_mode": {
    "name": "ipython",
    "version": 3
   },
   "file_extension": ".py",
   "mimetype": "text/x-python",
   "name": "python",
   "nbconvert_exporter": "python",
   "pygments_lexer": "ipython3",
   "version": "3.5.5"
  },
  "toc": {
   "nav_menu": {},
   "number_sections": true,
   "sideBar": true,
   "skip_h1_title": false,
   "title_cell": "Table of Contents",
   "title_sidebar": "Contents",
   "toc_cell": false,
   "toc_position": {},
   "toc_section_display": true,
   "toc_window_display": false
  },
  "widgets": {
   "state": {},
   "version": "1.1.2"
  }
 },
 "nbformat": 4,
 "nbformat_minor": 2
}
